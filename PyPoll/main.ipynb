{
 "cells": [
  {
   "cell_type": "code",
   "execution_count": 2,
   "metadata": {},
   "outputs": [],
   "source": [
    "#import dependencies\n",
    "import os\n",
    "import csv"
   ]
  },
  {
   "cell_type": "code",
   "execution_count": 3,
   "metadata": {},
   "outputs": [],
   "source": [
    "#path to csv file\n",
    "\n",
    "election_data = os.path.join(\"election_data.csv\")\n",
    "\n",
    "total_votes = 0\n",
    "candidate = \"\"\n",
    "candidate_votes = {}\n",
    "candidate_percentages ={}\n",
    "winner_votes = 0\n",
    "winner = \"\""
   ]
  },
  {
   "cell_type": "code",
   "execution_count": 5,
   "metadata": {},
   "outputs": [],
   "source": [
    "#open and read the csv file\n",
    "\n",
    "with open(election_data,'r', newline=\"\") as csvfile:\n",
    "    csvreader = csv.reader(csvfile, delimiter=\",\")\n",
    "\n",
    " #reading the header row\n",
    "    csv_header = next(csvreader)\n",
    "    \n",
    " # tally votes\n",
    "    for row in csvreader:\n",
    "        total_votes = total_votes + 1\n",
    "        candidate = row[2]\n",
    "        if candidate in candidate_votes:\n",
    "            candidate_votes[candidate] = candidate_votes[candidate] + 1\n",
    "        else:\n",
    "            candidate_votes[candidate] = 1\n",
    "            \n",
    "            "
   ]
  },
  {
   "cell_type": "code",
   "execution_count": 6,
   "metadata": {},
   "outputs": [],
   "source": [
    "# calculate vote percentage and identify winner\n",
    "for person, vote_count in candidate_votes.items():\n",
    "    candidate_percentages[person] = '{0:.0%}'.format(vote_count / total_votes)\n",
    "    if vote_count > winner_votes:\n",
    "        winner_votes = vote_count\n",
    "        winner = person"
   ]
  },
  {
   "cell_type": "code",
   "execution_count": 10,
   "metadata": {},
   "outputs": [
    {
     "name": "stdout",
     "output_type": "stream",
     "text": [
      "Election Results\n",
      "Total Votes: 3521001\n",
      "Khan: 63% (2218231)\n",
      "Correy: 20% (704200)\n",
      "Li: 14% (492940)\n",
      "O'Tooley: 3% (105630)\n",
      "Winner: Khan\n"
     ]
    }
   ],
   "source": [
    "#show results\n",
    "\n",
    "print(\"Election Results\")\n",
    "print(f\"Total Votes: {total_votes}\")\n",
    "\n",
    "for person, vote_count in candidate_votes.items():\n",
    "    print(f\"{person}: {candidate_percentages[person]} ({vote_count})\")\n",
    "    \n",
    "\n",
    "print(f\"Winner: {winner}\")\n"
   ]
  },
  {
   "cell_type": "code",
   "execution_count": 14,
   "metadata": {},
   "outputs": [],
   "source": [
    "#export results to text file\n",
    "output_txt = os.path.join(\"output.txt\")\n",
    "with open(output_txt, \"w\") as txt_file:\n",
    "    txt_file.write(f\"Election Results\" + \"\\n\")\n",
    "    txt_file.write(f\"Total Votes: {total_votes}\" + \"\\n\")\n",
    "\n",
    "    for person, vote_count in candidate_votes.items():\n",
    "        txt_file.write(f\"{person}: {candidate_percentages[person]} ({vote_count})\" + \"\\n\")\n",
    "    \n",
    "    txt_file.write(f\"Winner: {winner}\")\n",
    "   "
   ]
  },
  {
   "cell_type": "code",
   "execution_count": null,
   "metadata": {},
   "outputs": [],
   "source": []
  }
 ],
 "metadata": {
  "kernelspec": {
   "display_name": "Python 3",
   "language": "python",
   "name": "python3"
  },
  "language_info": {
   "codemirror_mode": {
    "name": "ipython",
    "version": 3
   },
   "file_extension": ".py",
   "mimetype": "text/x-python",
   "name": "python",
   "nbconvert_exporter": "python",
   "pygments_lexer": "ipython3",
   "version": "3.7.3"
  }
 },
 "nbformat": 4,
 "nbformat_minor": 2
}
