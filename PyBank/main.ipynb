{
 "cells": [
  {
   "cell_type": "code",
   "execution_count": 1,
   "metadata": {},
   "outputs": [],
   "source": [
    "#import dependencies\n",
    "import os\n",
    "import csv"
   ]
  },
  {
   "cell_type": "code",
   "execution_count": 2,
   "metadata": {},
   "outputs": [],
   "source": [
    "#path to csv file\n",
    "budget_data = os.path.join(\"budget_data.csv\")\n",
    "\n",
    "\n",
    "total_months = 0\n",
    "total_pl = 0\n",
    "value = 0\n",
    "change = 0\n",
    "dates = []\n",
    "profits = []"
   ]
  },
  {
   "cell_type": "code",
   "execution_count": 3,
   "metadata": {},
   "outputs": [],
   "source": [
    "#open and read the csv file\n",
    "with open(budget_data, newline = \"\") as csvfile:\n",
    "    csvreader = csv.reader(csvfile, delimiter = \",\")\n",
    "\n",
    "    #reading the header row\n",
    "    csv_header = next(csvreader)\n",
    "\n",
    "    #reading the first row\n",
    "    first_row = next(csvreader)\n",
    "    total_months += 1\n",
    "    total_pl += int(first_row[1])\n",
    "    value = int(first_row[1])\n",
    "    \n",
    "    #iterating through each row of data\n",
    "    for row in csvreader:\n",
    "        #keeping track of the dates\n",
    "        dates.append(row[0])\n",
    "        \n",
    "        #calculate the change, then add to list of changes\n",
    "        change = int(row[1])-value\n",
    "        profits.append(change)\n",
    "        value = int(row[1])\n",
    "        \n",
    "        #total number of months\n",
    "        total_months += 1\n",
    "\n",
    "        #total net amount of \"Profit/Losses over entire period\"\n",
    "        total_pl = total_pl + int(row[1])\n",
    "\n",
    "    #greatest increase in profits\n",
    "    greatest_increase = max(profits)\n",
    "    greatest_index = profits.index(greatest_increase)\n",
    "    greatest_date = dates[greatest_index]\n",
    "\n",
    "    #greatest decrease in losses \n",
    "    greatest_decrease = min(profits)\n",
    "    worst_index = profits.index(greatest_decrease)\n",
    "    worst_date = dates[worst_index]\n",
    "\n",
    "    #average of the changes in \"Profit/Losses\" over the entire period\n",
    "    avg_change = sum(profits)/len(profits)\n",
    "    "
   ]
  },
  {
   "cell_type": "code",
   "execution_count": 4,
   "metadata": {},
   "outputs": [],
   "source": [
    "output = (\n",
    "    \n",
    "    f'Financial Analysis\\n'\n",
    "    f'--------------------------\\n'\n",
    "    f'Total Months: {total_months}\\n'\n",
    "    f'Total Revenue: ${total_pl}\\n'\n",
    "    f'Average Change: ${(round(avg_change,2))}\\n'\n",
    "    f'Greatest increase in Revenue: {greatest_date} ${greatest_increase}\\n'\n",
    "    f'Greatest decrease in Revenue: {worst_date} ${greatest_decrease}'\n",
    ")"
   ]
  },
  {
   "cell_type": "code",
   "execution_count": 5,
   "metadata": {},
   "outputs": [
    {
     "name": "stdout",
     "output_type": "stream",
     "text": [
      "Financial Analysis\n",
      "--------------------------\n",
      "Total Months: 86\n",
      "Total Revenue: $38382578\n",
      "Average Change: $-2315.12\n",
      "Greatest increase in Revenue: Feb-2012 $1926159\n",
      "Greatest decrease in Revenue: Sep-2013 $-2196167\n"
     ]
    }
   ],
   "source": [
    "print(output)"
   ]
  },
  {
   "cell_type": "code",
   "execution_count": 6,
   "metadata": {},
   "outputs": [],
   "source": [
    "#export results to text file\n",
    "output_txt = os.path.join(\"output.txt\")\n",
    "with open(output_txt, \"w\") as txt_file:\n",
    "    txt_file.write(output)"
   ]
  }
 ],
 "metadata": {
  "kernelspec": {
   "display_name": "Python 3",
   "language": "python",
   "name": "python3"
  },
  "language_info": {
   "codemirror_mode": {
    "name": "ipython",
    "version": 3
   },
   "file_extension": ".py",
   "mimetype": "text/x-python",
   "name": "python",
   "nbconvert_exporter": "python",
   "pygments_lexer": "ipython3",
   "version": "3.7.3"
  }
 },
 "nbformat": 4,
 "nbformat_minor": 2
}
